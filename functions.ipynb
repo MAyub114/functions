{
 "cells": [
  {
   "cell_type": "markdown",
   "metadata": {},
   "source": [
    "# Functions\n",
    "\n",
    "Ranked in order of complexity."
   ]
  },
  {
   "cell_type": "code",
   "execution_count": 64,
   "metadata": {},
   "outputs": [],
   "source": [
    "# Function with 0 arguments\n",
    "def hello():\n",
    "    print('Hello world')\n",
    "\n",
    "# Function with 1 argument\n",
    "def add10(n):\n",
    "    return n + 10\n",
    "\n",
    "# Function with 2 or more arguments\n",
    "def add(a, b):\n",
    "    return a + b\n",
    "\n",
    "# Functions with default / optional parameters\n",
    "def greet(name, greeting='Hello'):\n",
    "    print(greeting, name)\n",
    "\n",
    "# Recursive functions\n",
    "def factorial(n):\n",
    "    if n == 1:\n",
    "        return 1\n",
    "    return n * factorial(n-1)\n",
    "\n",
    "# Methods - functions that exist inside a class\n",
    "class Dog1:\n",
    "    def bark(self):\n",
    "        print('woof')\n",
    "\n",
    "# Magic methods - special behaviours\n",
    "class Dog2:\n",
    "    def __init__(self, name, age):\n",
    "        self.name = name\n",
    "        self.age = age\n",
    "    \n",
    "    def __str__(self):\n",
    "        return f'Dog(name={self.name}, age={self.age})'\n",
    "\n",
    "# Functions that take any number of positional arguments    \n",
    "def test(a, b, *args):\n",
    "    print(f'{a=} {b=} {args=}')\n",
    "\n",
    "# Functions that take any number of keyword arguments\n",
    "def test2(a, b, **kwargs):\n",
    "    print(f'{a=} {b=} {kwargs=}')\n",
    "\n",
    "# Functions with *args and **kwargs. **kwargs must come after *args\n",
    "def test3(*apple, **orange):\n",
    "    print(f'{apple} {orange}')\n",
    "\n",
    "# Generator functions - functions with multiple outputs\n",
    "def generate_1_to_3():\n",
    "    yield 1\n",
    "    yield 2\n",
    "    yield 3\n",
    "\n",
    "def gen_squares(start, stop):\n",
    "    for i in range(start, stop+1):\n",
    "        yield i**2\n",
    "\n",
    "# Higher order functions - takes in another function\n",
    "def apply_to_list(lis, function):\n",
    "    output = []\n",
    "    for n in lis:\n",
    "        output.append(function(n))\n",
    "    return output\n",
    "\n",
    "# Higher order functions - returns another function\n",
    "def create_add_n_function(n):\n",
    "    def add_n(number):\n",
    "        return number + n\n",
    "    return add_n\n",
    "\n",
    "# Decorators - special type of higher order function\n",
    "def add_exclamation_mark(your_function):\n",
    "    def wrapper_function(*args, **kwargs):\n",
    "        return your_function(*args, **kwargs) + '!'\n",
    "    return wrapper_function\n",
    "\n",
    "@add_exclamation_mark\n",
    "def greet(name):\n",
    "    return f'hello {name}'\n",
    "\n",
    "# Advanced decorator functions\n",
    "def add_symbol(symbol):\n",
    "    def decorator_function(your_function):\n",
    "        def wrapper(*args, **kwargs):\n",
    "            return your_function(*args, **kwargs) + symbol\n",
    "        return wrapper\n",
    "    return decorator_function\n",
    "\n",
    "@add_symbol('!')\n",
    "def greet2(name):\n",
    "    return f'hello {name}'\n",
    "\n",
    "@add_symbol('??')\n",
    "def greet2(name):\n",
    "    return f'hello {name}'"
   ]
  },
  {
   "cell_type": "code",
   "execution_count": 7,
   "metadata": {},
   "outputs": [
    {
     "name": "stdout",
     "output_type": "stream",
     "text": [
      "Hello world\n"
     ]
    }
   ],
   "source": [
    "# Function with 0 arguments\n",
    "hello()"
   ]
  },
  {
   "cell_type": "code",
   "execution_count": 8,
   "metadata": {},
   "outputs": [
    {
     "data": {
      "text/plain": [
       "25"
      ]
     },
     "execution_count": 8,
     "metadata": {},
     "output_type": "execute_result"
    }
   ],
   "source": [
    "# Function with 1 argument\n",
    "add10(15)"
   ]
  },
  {
   "cell_type": "code",
   "execution_count": 9,
   "metadata": {},
   "outputs": [
    {
     "data": {
      "text/plain": [
       "6"
      ]
     },
     "execution_count": 9,
     "metadata": {},
     "output_type": "execute_result"
    }
   ],
   "source": [
    "# Function with 2 or more arguments\n",
    "add(2, 4)"
   ]
  },
  {
   "cell_type": "code",
   "execution_count": 16,
   "metadata": {},
   "outputs": [
    {
     "name": "stdout",
     "output_type": "stream",
     "text": [
      "Assalamu Alaikum Ayub\n",
      "Hello Ayub\n"
     ]
    }
   ],
   "source": [
    "# Functions with default / optional parameters\n",
    "greet('Ayub', 'Assalamu Alaikum')\n",
    "greet('Ayub')"
   ]
  },
  {
   "cell_type": "code",
   "execution_count": 21,
   "metadata": {},
   "outputs": [
    {
     "name": "stdout",
     "output_type": "stream",
     "text": [
      "12\n",
      "6\n"
     ]
    }
   ],
   "source": [
    "# Lambda functions\n",
    "add10 = lambda x: x+10\n",
    "print(add10(2))\n",
    "\n",
    "add = lambda a, b: a+b\n",
    "print(add(1, 5))"
   ]
  },
  {
   "cell_type": "code",
   "execution_count": 23,
   "metadata": {},
   "outputs": [
    {
     "data": {
      "text/plain": [
       "720"
      ]
     },
     "execution_count": 23,
     "metadata": {},
     "output_type": "execute_result"
    }
   ],
   "source": [
    "# Recursive functions\n",
    "factorial(6)"
   ]
  },
  {
   "cell_type": "code",
   "execution_count": 29,
   "metadata": {},
   "outputs": [
    {
     "name": "stdout",
     "output_type": "stream",
     "text": [
      "woof\n"
     ]
    }
   ],
   "source": [
    "# Methods - functions that exist inside a class\n",
    "dog = Dog1()  # instantiate the Dog object\n",
    "dog.bark()    # run the bark method"
   ]
  },
  {
   "cell_type": "code",
   "execution_count": 30,
   "metadata": {},
   "outputs": [
    {
     "name": "stdout",
     "output_type": "stream",
     "text": [
      "Dog(name=rocky, age=4)\n"
     ]
    }
   ],
   "source": [
    "# Magic methods - special behaviours\n",
    "dog = Dog2('rocky', 4)  # instantiate the Dog object. Set name as 'rocky' and age as 4\n",
    "print(dog)"
   ]
  },
  {
   "cell_type": "code",
   "execution_count": 41,
   "metadata": {},
   "outputs": [
    {
     "name": "stdout",
     "output_type": "stream",
     "text": [
      "a=1 b=2 args=()\n",
      "a=1 b=2 args=(3,)\n",
      "a=1 b=2 args=(3, 4)\n"
     ]
    }
   ],
   "source": [
    "# Functions that take any number of positional arguments. This function must have a minimum of 2 arguments otherwise an error occurs\n",
    "# test()   <-- error\n",
    "# test(1)  <-- error\n",
    "test(1, 2)\n",
    "test(1, 2, 3)\n",
    "test(1, 2, 3, 4)"
   ]
  },
  {
   "cell_type": "code",
   "execution_count": 46,
   "metadata": {},
   "outputs": [
    {
     "name": "stdout",
     "output_type": "stream",
     "text": [
      "a=1 b=2 kwargs={}\n",
      "a=1 b=2 kwargs={'c': 3}\n",
      "a=1 b=2 kwargs={'c': 3, 'd': 4}\n"
     ]
    }
   ],
   "source": [
    "# Functions that take any number of keyword arguments. This function must have a minimum of 2 arguments otherwise an error occurs\n",
    "# test2()     <-- error\n",
    "# test2(a=1)  <-- error\n",
    "test2(a=1, b=2)\n",
    "test2(a=1, b=2, c=3)\n",
    "test2(a=1, b=2, c=3, d=4)"
   ]
  },
  {
   "cell_type": "code",
   "execution_count": 50,
   "metadata": {},
   "outputs": [
    {
     "name": "stdout",
     "output_type": "stream",
     "text": [
      "() {}\n",
      "(1, 2, 3) {}\n",
      "() {'a': 1, 'b': 2, 'c': 3}\n",
      "(1, 2) {'a': 3, 'b': 4}\n"
     ]
    }
   ],
   "source": [
    "# Functions with *args and **kwargs. **kwargs must come after *args\n",
    "test3()\n",
    "test3(1, 2, 3)\n",
    "test3(a=1, b=2, c=3)\n",
    "test3(1, 2, a=3, b=4)"
   ]
  },
  {
   "cell_type": "code",
   "execution_count": 54,
   "metadata": {},
   "outputs": [
    {
     "name": "stdout",
     "output_type": "stream",
     "text": [
      "1\n",
      "2\n",
      "3\n",
      "1\n",
      "4\n",
      "9\n",
      "16\n",
      "25\n"
     ]
    }
   ],
   "source": [
    "# Generator functions - functions with multiple outputs\n",
    "for i in generate_1_to_3():\n",
    "    print(i)\n",
    "\n",
    "for i in gen_squares(1, 5):\n",
    "    print(i)"
   ]
  },
  {
   "cell_type": "code",
   "execution_count": 57,
   "metadata": {},
   "outputs": [
    {
     "data": {
      "text/plain": [
       "[11, 12, 13]"
      ]
     },
     "execution_count": 57,
     "metadata": {},
     "output_type": "execute_result"
    }
   ],
   "source": [
    "# Higher order functions - takes in another function\n",
    "lis = apply_to_list([1, 2, 3], add10)\n",
    "lis"
   ]
  },
  {
   "cell_type": "code",
   "execution_count": 59,
   "metadata": {},
   "outputs": [
    {
     "data": {
      "text/plain": [
       "105"
      ]
     },
     "execution_count": 59,
     "metadata": {},
     "output_type": "execute_result"
    }
   ],
   "source": [
    "# Higher order functions - returns another function\n",
    "add100 = create_add_n_function(100)\n",
    "add100(5)"
   ]
  },
  {
   "cell_type": "code",
   "execution_count": 65,
   "metadata": {},
   "outputs": [
    {
     "data": {
      "text/plain": [
       "'hello tom!'"
      ]
     },
     "execution_count": 65,
     "metadata": {},
     "output_type": "execute_result"
    }
   ],
   "source": [
    "# Decorators - special type of higher order function\n",
    "greet('tom')"
   ]
  },
  {
   "cell_type": "code",
   "execution_count": 66,
   "metadata": {},
   "outputs": [
    {
     "data": {
      "text/plain": [
       "'hello tom??'"
      ]
     },
     "execution_count": 66,
     "metadata": {},
     "output_type": "execute_result"
    }
   ],
   "source": [
    "# Advanced decorator functions\n",
    "greet2('tom')"
   ]
  }
 ],
 "metadata": {
  "kernelspec": {
   "display_name": "Python 3",
   "language": "python",
   "name": "python3"
  },
  "language_info": {
   "codemirror_mode": {
    "name": "ipython",
    "version": 3
   },
   "file_extension": ".py",
   "mimetype": "text/x-python",
   "name": "python",
   "nbconvert_exporter": "python",
   "pygments_lexer": "ipython3",
   "version": "3.10.8"
  },
  "orig_nbformat": 4
 },
 "nbformat": 4,
 "nbformat_minor": 2
}
